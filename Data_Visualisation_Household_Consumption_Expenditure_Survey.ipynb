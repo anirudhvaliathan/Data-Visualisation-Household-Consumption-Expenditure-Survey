{
  "cells": [
    {
      "cell_type": "markdown",
      "metadata": {
        "id": "view-in-github",
        "colab_type": "text"
      },
      "source": [
        "<a href=\"https://colab.research.google.com/github/anirudhvaliathan/Data-Visualisation-Household-Consumption-Expenditure-Survey/blob/main/Data_Visualisation_Household_Consumption_Expenditure_Survey.ipynb\" target=\"_parent\"><img src=\"https://colab.research.google.com/assets/colab-badge.svg\" alt=\"Open In Colab\"/></a>"
      ]
    },
    {
      "cell_type": "markdown",
      "metadata": {
        "id": "V_ZVdV5yVNuq"
      },
      "source": [
        "#Introduction and Setup\n",
        "---\n",
        "\n"
      ]
    },
    {
      "cell_type": "markdown",
      "metadata": {
        "id": "jAlDJvY2VqE_"
      },
      "source": [
        "The Household Consumption Expenditure Survey (HCES) is designed to collect\n",
        "information on consumption of goods and services by the households. The survey\n",
        "also collects some auxiliary information on household characteristics and\n",
        "demographic particulars of the households. Information collected in HCES is useful\n",
        "for understanding the consumption and expenditure pattern, standard of living and\n",
        "well-being of the households. Besides, the data of HCES provides budget shares of\n",
        "different commodity groups that is used for preparation of the weighting diagram for\n",
        "compilation of official Consumer Price Indices (CPIs). The data collected in HCES is\n",
        "also utilized for deriving various other macroeconomic indicators.\n",
        "\n",
        "All data has been taken from the Ministry of Statistics and Programme Implementation."
      ]
    },
    {
      "cell_type": "code",
      "execution_count": null,
      "metadata": {
        "id": "jlKEKWP2msEH"
      },
      "outputs": [],
      "source": [
        "import io\n",
        "import numpy as np\n",
        "import pandas as pd\n",
        "import seaborn as sns\n",
        "import plotly.express as px\n",
        "import plotly.graph_objects as go\n",
        "from plotly.subplots import make_subplots\n",
        "import json\n",
        "import IPython\n",
        "\n",
        "from plotly.offline import download_plotlyjs, init_notebook_mode, plot, iplot\n",
        "init_notebook_mode(connected=True)\n",
        "\n",
        "\n",
        "def enable_plotly_in_cell():\n",
        "  display(IPython.core.display.HTML('''<script src=\"/static/components/requirejs/require.js\"></script>'''))\n",
        "  init_notebook_mode(connected=False)"
      ]
    },
    {
      "cell_type": "code",
      "execution_count": null,
      "metadata": {
        "id": "09zEt6oki8aW"
      },
      "outputs": [],
      "source": [
        "# HFCE %consumption data in csv form - Source: Ministry of Statistics and Programme Implementation\n",
        "\n",
        "statewise_data = '''\n",
        "State/UT/all-India;Sample (Rural);Sample (Urban);Estimated (Rural '00);Estimated (Urban '00);Average MPCE (Rural Rs.);Average MPCE (Urban Rs.)\n",
        "Andhra Pradesh;6,245;4,025;95,813;45,443;4,870;6,782\n",
        "Arunachal Pradesh;2,581;1,440;1,953;602;5,276;8,636\n",
        "Assam;6,045;2,517;63,174;9,279;3,432;6,136\n",
        "Bihar;13,602;3,564;1,98,464;18,955;3,384;4,768\n",
        "Chhattisgarh;2,867;2,141;47,120;12,298;2,466;4,483\n",
        "Delhi;305;2,931;510;30,965;6,576;8,217\n",
        "Goa;360;323;1,569;2,270;7,367;8,734\n",
        "Gujarat;5,726;5,560;73,816;58,955;3,798;6,621\n",
        "Haryana;2,796;2,472;33,394;22,330;4,859;7,911\n",
        "Himachal Pradesh;1,406;1,036;17,260;2,601;5,561;8,075\n",
        "Jharkhand;3,927;2,458;55,031;14,021;2,763;4,931\n",
        "Karnataka;6,688;5,701;89,231;61,965;4,397;7,666\n",
        "Kerala;3,870;3,507;46,172;42,846;5,924;7,078\n",
        "Madhya Pradesh;8,551;5,644;1,14,334;41,241;3,113;4,987\n",
        "Maharashtra;11,596;11,163;1,50,360;1,19,824;4,010;6,657\n",
        "Manipur;2,572;2,261;4,440;1,767;4,360;4,880\n",
        "Meghalaya;2,132;1,079;5,610;1,112;3,514;6,433\n",
        "Mizoram;1,439;2,157;1,229;1,033;5,224;7,655\n",
        "Nagaland;1,996;1,079;2,341;979;4,393;7,098\n",
        "Odisha;6,732;2,453;87,449;15,796;2,950;5,187\n",
        "Punjab;3,076;2,754;40,039;24,166;5,315;6,544\n",
        "Rajasthan;8,724;4,438;1,10,176;39,106;4,263;5,913\n",
        "Sikkim;1,411;720;1,189;608;7,731;12,105\n",
        "Tamil Nadu;7,447;6,917;1,10,296;1,01,180;5,310;7,630\n",
        "Telangana;3,553;3,233;58,055;52,002;4,802;8,158\n",
        "Tripura;3,222;1,800;7,032;2,083;5,206;7,405\n",
        "Uttarakhand;1,700;1,073;18,136;5,353;4,641;7,004\n",
        "Uttar Pradesh;19,611;10,627;3,07,870;85,072;3,191;5,040\n",
        "West Bengal;10,715;7,421;1,68,057;67,825;3,239;5,267\n",
        "Andaman & Nicobar Island;644;356;625;498;7,332;10,268\n",
        "Chandigarh;360;360;82;2,521;7,467;12,575\n",
        "Dadra & Nagar Haveli and Daman & Diu;350;324;716;1,389;4,184;6,298\n",
        "Jammu & Kashmir;1,761;1,772;18,123;6,347;4,296;6,179\n",
        "Ladakh;359;360;371;79;4,035;6,215\n",
        "Lakshadweep;252;355;26;80;5,895;5,475\n",
        "Puducherry;359;711;1,137;2,437;6,590;7,706\n",
        "All-India;1,55,014;1,06,732;19,48,954;8,95,030;3,773;6,459\n",
        "'''\n",
        "\n",
        "trends_data = '''\n",
        "Rural/Urban;food/non-food;Item group;1999-2000;2004-2005;2009-2010;2011-2012;2022-2023\n",
        "Rural;food;cereal;22.16;17.38;13.71;10.69;4.89\n",
        "Rural;food;cereal substitutes;0.07;0.07;0.06;0.06;0.02\n",
        "Rural;food;gram;0.13;0.13;0.13;0.14;0.24\n",
        "Rural;food;pulses and pulse products;3.81;2.97;3.19;2.76;1.77\n",
        "Rural;food;sugar & salt;2.60;2.48;2.34;1.83;0.93\n",
        "Rural;food;milk and milk products;8.75;8.17;7.64;8.04;8.33\n",
        "Rural;food;vegetables;6.17;5.88;8.29;6.62;5.38\n",
        "Rural;food;fruits (fresh);1.42;1.46;1.93;2.25;2.54\n",
        "Rural;food;fruits (dry);0.30;0.34;0.49;0.58;1.17\n",
        "Rural;food;egg, fish & meat;3.32;3.21;4.74;4.79;4.91\n",
        "Rural;food;edible oil;3.74;4.44;3.69;3.74;3.59\n",
        "Rural;food;spices;2.74;2.21;3.36;3.50;2.98\n",
        "Rural;food;beverages, processed food etc.;4.19;4.38;7.40;7.90;9.62\n",
        "Rural;non-food;pan, tobacco & intoxicants;2.87;2.60;2.95;3.21;3.79\n",
        "Rural;non-food;fuel and light;7.52;9.81;8.03;7.98;6.66\n",
        "Rural;non-food;toilet articles & other household consumables;4.73;4.83;4.02;4.01;5.12\n",
        "Rural;non-food;education;1.93;3.12;3.59;3.49;3.30\n",
        "Rural;non-food;medical (hospitalization);1.37;1.62;1.65;2.15;2.36\n",
        "Rural;non-food;medical (non-hospitalization);4.72;4.65;3.75;4.50;4.77\n",
        "Rural;non-food;conveyance;2.94;3.63;3.45;4.20;7.55\n",
        "Rural;non-food;consumer services excluding conveyance;2.98;3.66;4.21;3.99;5.08\n",
        "Rural;non-food;entertainment;0.42;0.60;0.79;0.99;1.09\n",
        "Rural;non-food;rent;0.39;0.48;0.46;0.45;0.78\n",
        "Rural;non-food;other taxes & cesses;0.16;0.19;0.21;0.25;0.13\n",
        "Rural;non-food;clothing & bedding;6.85;6.74;5.30;5.99;5.24\n",
        "Rural;non-food;footwear;1.10;1.01;0.92;1.02;0.86\n",
        "Rural;non-food;durable goods;2.62;3.95;3.69;4.85;6.89\n",
        "Urban;food;cereal;12.35;9.58;8.12;6.61;3.62\n",
        "Urban;food;cereal substitutes;0.04;0.05;0.04;0.05;0.02\n",
        "Urban;food;gram;0.11;0.10;0.10;0.11;0.18\n",
        "Urban;food;pulses and pulse products;2.84;2.04;2.37;1.93;1.21\n",
        "Urban;food;sugar & salt;1.80;1.57;1.49;1.15;0.60\n",
        "Urban;food;milk and milk products;8.68;7.54;6.90;7.01;7.22\n",
        "Urban;food;vegetables;5.13;4.24;5.67;4.63;3.80\n",
        "Urban;food;fruits (fresh);1.95;1.68;2.54;2.64;2.50\n",
        "Urban;food;fruits (dry);0.47;0.46;0.63;0.78;1.31\n",
        "Urban;food;egg, fish & meat;3.13;2.58;3.63;3.65;3.57\n",
        "Urban;food;edible oil;3.14;3.29;2.66;2.66;2.37\n",
        "Urban;food;spices;2.07;1.47;2.21;2.42;2.13\n",
        "Urban;food;beverages, processed food etc.;6.35;5.91;8.03;8.98;10.64\n",
        "Urban;non-food;pan, tobacco & intoxicants;1.90;1.54;1.53;1.61;2.43\n",
        "Urban;non-food;fuel and light;7.75;9.47;6.94;6.69;6.26\n",
        "Urban;non-food;toilet articles & other household consumables;5.50;4.65;3.88;3.84;4.98\n",
        "Urban;non-food;education;4.33;6.67;8.09;6.90;5.78\n",
        "Urban;non-food;medical (hospitalization);1.44;1.44;1.83;1.96;1.91\n",
        "Urban;non-food;medical (non-hospitalization);3.62;3.76;3.16;3.58;4.00\n",
        "Urban;non-food;conveyance;5.52;6.21;5.63;6.52;8.59\n",
        "Urban;non-food;consumer services excluding conveyance;4.73;6.71;6.25;5.60;5.92\n",
        "Urban;non-food;entertainment;1.16;1.79;1.60;1.61;1.58\n",
        "Urban;non-food;rent;4.46;5.38;5.79;6.24;6.56\n",
        "Urban;non-food;other taxes & cesses;0.69;0.77;0.79;0.82;0.24\n",
        "Urban;non-food;clothing & bedding;6.05;5.60;4.85;5.37;4.64\n",
        "Urban;non-food;footwear;1.18;1.03;0.96;1.00;0.77\n",
        "Urban;non-food;durable goods;3.61;4.46;4.31;5.60;7.17\n",
        "'''\n",
        "\n",
        "household_data = '''\n",
        "\"Household type\";\"Rural/Urban\";\"Average MPCE (Rs.)\"\n",
        "\"self-employed in agriculture\";\"Rural\";\"3,702\"\n",
        "\"self-employed in non-agriculture\";\"Rural\";\"4,074\"\n",
        "\"regular wage/salaried earning in agriculture\";\"Rural\";\"3,597\"\n",
        "\"regular wage/salaried earning in non-agriculture\";\"Rural\";\"4,533\"\n",
        "\"casual labour in agriculture\";\"Rural\";\"3,273\"\n",
        "\"casual labour in non-agriculture\";\"Rural\";\"3,315\"\n",
        "\"others (rural)\";\"Rural\";\"4,684\"\n",
        "\"all (rural)\";\"Rural\";\"3,773\"\n",
        "\"self-employed\";\"Urban\";\"6,067\"\n",
        "\"regular wage/salaried earning\";\"Urban\";\"7,146\"\n",
        "\"casual labour\";\"Urban\";\"4,379\"\n",
        "\"others (urban)\";\"Urban\";\"8,619\"\n",
        "\"all (urban)\";\"Urban\";\"6,459\"\n",
        "'''\n",
        "\n",
        "socialgroup_data = '''\n",
        "\"Social Groups\";\"Rural\";\"Urban\"\n",
        "\"schedule tribe\";3016;5414\n",
        "\"schedule caste\";3474;5307\n",
        "\"other backward class\";3848;6177\n",
        "\"others\";4392;7333\n",
        "\"all\";3773;6459\n",
        "'''"
      ]
    },
    {
      "cell_type": "code",
      "execution_count": null,
      "metadata": {
        "id": "ZynzLc6hHRXv"
      },
      "outputs": [],
      "source": [
        "# Data preprocessing\n",
        "df_states = pd.read_csv(io.StringIO(statewise_data), sep=';')\n",
        "\n",
        "# change strings to numeric type\n",
        "for col in df_states.columns[1:]:\n",
        "  df_states[col] = pd.to_numeric(df_states[col].str.replace(',', ''))\n",
        "\n",
        "# changing estimates column from 'in hundreds' to actual value\n",
        "df_states[\"Estimated (Rural '00)\"] = df_states[\"Estimated (Rural '00)\"] * 100\n",
        "df_states[\"Estimated (Urban '00)\"] = df_states[\"Estimated (Urban '00)\"] * 100\n",
        "df_states = df_states.rename(columns = {\"Estimated (Rural '00)\": \"Estimated Rural Households\",\n",
        "                  \"Estimated (Urban '00)\": \"Estimated Urban Households\"})"
      ]
    },
    {
      "cell_type": "code",
      "source": [],
      "metadata": {
        "id": "O0FfkfaeFSjz"
      },
      "execution_count": null,
      "outputs": []
    },
    {
      "cell_type": "markdown",
      "metadata": {
        "id": "ayGIQ6Ub-HL3"
      },
      "source": [
        "# Survey Numbers"
      ]
    },
    {
      "cell_type": "code",
      "execution_count": null,
      "metadata": {
        "id": "jbFLQdan-USl"
      },
      "outputs": [],
      "source": [
        "# Calculating proportional representation of states in sample\n",
        "df_states[\"Proprtional Rural Representation\"] = 100 * df_states[\"Sample (Rural)\"]/df_states[\"Sample (Rural)\"].iloc[-1]\n",
        "df_states[\"Proprtional Urban Representation\"] = 100 * df_states[\"Sample (Urban)\"]/df_states[\"Sample (Urban)\"].iloc[-1]\n",
        "# Calculating proportion of Houselholds\n",
        "df_states[\"Estimated Rural Proportion\"] = 100 * df_states[\"Estimated Rural Households\"]/df_states[\"Estimated Rural Households\"].iloc[-1]\n",
        "df_states[\"Estimated Urban Proportion\"] = 100 * df_states[\"Estimated Urban Households\"]/df_states[\"Estimated Urban Households\"].iloc[-1]\n",
        "\n",
        "# Discrepency in representation\n",
        "df_states[\"Difference in Rural Representation\"] = df_states[\"Proprtional Rural Representation\"] - df_states[\"Estimated Rural Proportion\"]\n",
        "df_states[\"Difference in Urban Representation\"] = df_states[\"Proprtional Urban Representation\"] - df_states[\"Estimated Urban Proportion\"]\n",
        "\n",
        "df_states.head()"
      ]
    },
    {
      "cell_type": "code",
      "execution_count": null,
      "metadata": {
        "id": "WxYphYK8DIzm"
      },
      "outputs": [],
      "source": [
        "fig = px.scatter(df_states, x=df_states[\"Difference in Rural Representation\"].iloc[:-1],\n",
        "                 y=df_states[\"Difference in Urban Representation\"].iloc[:-1],\n",
        "\n",
        "                 color=df_states[\"State/UT/all-India\"].iloc[:-1],\n",
        "                 color_discrete_sequence=px.colors.qualitative.Alphabet)\n",
        "\n",
        "fig.update_layout(\n",
        "    title = 'Which States are Overrepresented and Which are Underrepresented?',\n",
        "    xaxis = dict(\n",
        "        showline=True,\n",
        "        showgrid=True,\n",
        "        showticklabels=True\n",
        "    )\n",
        ")\n",
        "fig.update_yaxes(title='Difference in Urban Representation (%)', zerolinecolor='black', gridwidth=0.5, zerolinewidth=3, gridcolor='black')\n",
        "fig.update_xaxes(title='Difference in Rural Representation (%)', zerolinecolor='black', zerolinewidth=3, gridcolor='black')\n",
        "enable_plotly_in_cell()\n",
        "fig.show()"
      ]
    },
    {
      "cell_type": "markdown",
      "metadata": {
        "id": "BZTMWRJAPjOm"
      },
      "source": [
        "# Statewise breakdown"
      ]
    },
    {
      "cell_type": "markdown",
      "source": [
        "Below is the state-wise distribution of household total expenditure, first for rural households, and then for urban households."
      ],
      "metadata": {
        "id": "0R-fVt-wGwoV"
      }
    },
    {
      "cell_type": "code",
      "execution_count": null,
      "metadata": {
        "id": "WPSg19apPiKc"
      },
      "outputs": [],
      "source": [
        "state_hfce = df_states[['State/UT/all-India', 'Average MPCE (Rural Rs.)', 'Average MPCE (Urban Rs.)']]\n",
        "state_hfce.drop([33, 36], inplace=True)\n",
        "state_hfce.reset_index(drop=True, inplace=True)\n",
        "state_hfce\n"
      ]
    },
    {
      "cell_type": "code",
      "execution_count": null,
      "metadata": {
        "id": "n0mlb56sQKMS"
      },
      "outputs": [],
      "source": [
        "states_geojson = json.load(open(\"states_india.geojson\", \"r\"))"
      ]
    },
    {
      "cell_type": "code",
      "execution_count": null,
      "metadata": {
        "id": "uEVOpJxUQnmf"
      },
      "outputs": [],
      "source": [
        "state_id_map = {}\n",
        "\n",
        "for feature in states_geojson['features']:\n",
        "  feature['id'] = feature['properties']['state_code']\n",
        "  # handle cases of mismatch of names between data and the geojson file\n",
        "  if feature['properties']['st_nm'] == 'NCT of Delhi':\n",
        "    state_id_map['Delhi'] = feature['id']\n",
        "  elif feature['properties']['st_nm'] == 'Dadara & Nagar Havelli':\n",
        "    state_id_map['Dadra & Nagar Haveli and Daman & Diu'] = feature['id']\n",
        "  else:\n",
        "    state_id_map[feature['properties']['st_nm']] = feature['id']\n",
        "\n",
        "state_hfce['id'] = state_hfce['State/UT/all-India'].apply(lambda x: state_id_map[x])\n",
        "state_hfce.head()"
      ]
    },
    {
      "cell_type": "code",
      "execution_count": null,
      "metadata": {
        "id": "NmT2nKdMX9N_"
      },
      "outputs": [],
      "source": [
        "fig = px.choropleth(state_hfce, locations='id', geojson=states_geojson, color='Average MPCE (Urban Rs.)',\n",
        "                    hover_name='State/UT/all-India')\n",
        "\n",
        "fig.update_geos(fitbounds=\"locations\", visible=False)\n",
        "fig.update_layout(margin={\"r\":0,\"t\":0,\"l\":0,\"b\":0}, height=1200, width=2000)\n",
        "enable_plotly_in_cell()\n",
        "fig.show()"
      ]
    },
    {
      "cell_type": "code",
      "execution_count": null,
      "metadata": {
        "id": "ZWG2dd3YZ313"
      },
      "outputs": [],
      "source": [
        "fig = px.choropleth(state_hfce, locations='id', geojson=states_geojson, color='Average MPCE (Rural Rs.)',\n",
        "                    hover_name='State/UT/all-India')\n",
        "\n",
        "fig.update_geos(fitbounds=\"locations\", visible=False)\n",
        "fig.update_layout(margin={\"r\":0,\"t\":0,\"l\":0,\"b\":0}, height=1200, width=2000)\n",
        "enable_plotly_in_cell()\n",
        "fig.show()"
      ]
    },
    {
      "cell_type": "markdown",
      "source": [
        "The southern and north-eastern parts seem to be able to spend more, because of greater income and better standards of living, the former especially when it comes to rural households."
      ],
      "metadata": {
        "id": "dwNck3VrG6fN"
      }
    },
    {
      "cell_type": "markdown",
      "metadata": {
        "id": "73OaTVBW-NX6"
      },
      "source": [
        "# 2022-2023 Breakdown and Trends"
      ]
    },
    {
      "cell_type": "markdown",
      "source": [
        "Below is a snapshot of the breakdown of percentages for this year, and of trends over the past few decades showing how the shares of each item group have changed."
      ],
      "metadata": {
        "id": "BemXHek1HEQ1"
      }
    },
    {
      "cell_type": "code",
      "execution_count": null,
      "metadata": {
        "id": "AP51t5hsm6ER"
      },
      "outputs": [],
      "source": [
        "df_trends = pd.read_csv(io.StringIO(trends_data), sep=';')\n",
        "df_trends.head()"
      ]
    },
    {
      "cell_type": "code",
      "execution_count": null,
      "metadata": {
        "id": "xxDH1lSbJk8u"
      },
      "outputs": [],
      "source": [
        "df_rural = df_trends[df_trends['Rural/Urban'] == 'Rural']\n",
        "df_urban = df_trends[df_trends['Rural/Urban'] == 'Urban']\n",
        "\n",
        "sb1 = px.sunburst(df_rural, path=['food/non-food', 'Item group'], values='2022-2023')\n",
        "sb2 = px.sunburst(df_urban, path=['food/non-food', 'Item group'], values='2022-2023')\n",
        "fig = make_subplots(rows=1, cols=2,\n",
        "                    subplot_titles=['Rural Consumption Breakdown 2022-2023', 'Urban Consumption Breakdown 2022-2023'],\n",
        "                    specs=[\n",
        "    [{\"type\": \"sunburst\"}, {\"type\": \"sunburst\"}]\n",
        "])\n",
        "fig.add_trace(sb1.data[0], 1, 1)\n",
        "fig.add_trace(sb2.data[0], 1, 2)\n",
        "fig.update_traces(textinfo='label+percent entry', textfont_size=12, outsidetextfont={'size':12})\n",
        "enable_plotly_in_cell()\n",
        "fig.show()"
      ]
    },
    {
      "cell_type": "markdown",
      "source": [
        "Both rural and urban households spend more on non-food items, but the latter seem to spend a greater share. But for both the single biggest item was ‘beverages and processed foods’, and under the ‘non-food’ category, ‘conveyance’. Although urban households spent 7% more share of their total expenses on non-food items.\n",
        "\n",
        "If we look at the trends for some major categories over the last couple of decades, we see some interesting changes.\n"
      ],
      "metadata": {
        "id": "wA3CTR3WF7kv"
      }
    },
    {
      "cell_type": "code",
      "execution_count": null,
      "metadata": {
        "id": "E5zEycJiDDs6"
      },
      "outputs": [],
      "source": [
        "df_trends_melted = df_trends.melt(id_vars=['Rural/Urban', 'food/non-food', 'Item group'],\n",
        "                                value_vars=['1999-2000', '2004-2005', '2009-2010', '2011-2012', '2022-2023'],\n",
        "                                var_name='Year', value_name='values')\n",
        "\n",
        "# List of values in the 'food/non-food' column to plot\n",
        "all_food_non_food_values = ['beverages, processed food etc.', 'cereal',\n",
        " 'clothing & bedding',\n",
        " 'conveyance', 'durable goods',  'education', 'egg, fish & meat',\n",
        " 'entertainment',\n",
        " 'fuel and light',\n",
        " 'medical (non-hospitalization)', 'milk and milk products',\n",
        "  'pan, tobacco & intoxicants',\n",
        " 'pulses and pulse products', 'rent',\n",
        "  'vegetables']\n",
        "\n",
        "\n",
        "df_trends_graph = df_trends_melted.loc[df_trends_melted['Item group'].isin(all_food_non_food_values)]\n",
        "\n",
        "markers = ['circle', 'square', 'diamond', 'cross', 'x', 'triangle-up', 'triangle-down', 'triangle-left', 'triangle-right', 'pentagon', 'hexagon', 'hexagon2', 'octagon', 'star', 'hexagram', 'star-triangle-up', 'star-triangle-down', 'star-square', 'star-diamond', 'diamond-tall', 'diamond-wide', 'hourglass', 'bowtie', 'circle-cross', 'circle-x', 'square-cross', 'square-x', 'diamond-cross', 'diamond-x']\n",
        "\n",
        "fig = px.line(df_trends_graph, x='Year', y='values', markers=True, color='Item group',\n",
        "              color_discrete_sequence=px.colors.qualitative.Dark24,\n",
        "              symbol='Item group', symbol_sequence=markers,\n",
        "              facet_col='food/non-food', facet_row='Rural/Urban')\n",
        "fig.update_layout(width=1500)\n",
        "fig.for_each_annotation(lambda a: a.update(text=a.text.split(\"=\")[-1]))\n",
        "fig.update_yaxes(title='Percentage Share', col=1)\n",
        "fig.update_yaxes(matches=None)\n",
        "fig.for_each_yaxis(lambda yaxis: yaxis.update(showticklabels=True))\n",
        "fig.update_xaxes(matches=None)\n",
        "enable_plotly_in_cell()\n",
        "fig.show()"
      ]
    },
    {
      "cell_type": "markdown",
      "source": [
        "The biggest drop has been in the ‘cereal’ category for both, falling the most for rural households\n",
        "from over 20% to close to 5%. And for both the steepest increase has been in the ‘beverages and processed foods’ and ‘conveyance’ category for ‘food’ and ‘non-food’ items.\n"
      ],
      "metadata": {
        "id": "U7YkjbtAGkVn"
      }
    },
    {
      "cell_type": "markdown",
      "metadata": {
        "id": "Go7gD9PENcFS"
      },
      "source": [
        "# By Households and Social Groups"
      ]
    },
    {
      "cell_type": "markdown",
      "source": [
        "First lets look at the breakdown of expenditure by type of household based on occupation."
      ],
      "metadata": {
        "id": "Mcvc_FuiIEXl"
      }
    },
    {
      "cell_type": "code",
      "execution_count": null,
      "metadata": {
        "id": "nRwWZNnfNv3R"
      },
      "outputs": [],
      "source": [
        "\n",
        "df_household = pd.read_csv(io.StringIO(household_data), sep=';')\n",
        "df_household\n",
        "\n",
        "fig = px.bar(df_household, y='Household type', x='Average MPCE (Rs.)', color='Rural/Urban', labels='Household type', orientation='h')\n",
        "\n",
        "enable_plotly_in_cell()\n",
        "fig.show()"
      ]
    },
    {
      "cell_type": "markdown",
      "source": [
        "But even more important the comparison between states, or between rural and urban households, is to look at the comparison between different social groups. As is shown below, regardless of geographical location, there is a clear difference in how much different social groups are able to spend."
      ],
      "metadata": {
        "id": "qmUL0HAnHvk5"
      }
    },
    {
      "cell_type": "code",
      "execution_count": null,
      "metadata": {
        "id": "MXDST2tqSGE8"
      },
      "outputs": [],
      "source": [
        "df_socialgroup = pd.read_csv(io.StringIO(socialgroup_data), sep=';')\n",
        "df_socialgroup_melted = df_socialgroup.melt(id_vars=['Social Groups'],\n",
        "                                value_vars=['Rural', 'Urban'],\n",
        "                                var_name='Rural/Urban', value_name='values')\n",
        "df_socialgroup_melted"
      ]
    },
    {
      "cell_type": "code",
      "execution_count": null,
      "metadata": {
        "id": "JPAIU9Y6Thnh"
      },
      "outputs": [],
      "source": [
        "fig = px.line_polar(df_socialgroup_melted, r='values', theta='Social Groups',\n",
        "                   template='plotly_dark', color='Rural/Urban', line_close=True)\n",
        "fig.update_traces(fill='toself')\n",
        "enable_plotly_in_cell()\n",
        "fig.show()"
      ]
    },
    {
      "cell_type": "markdown",
      "source": [
        "As expected, SC/ST/OBCs spend much less than the general category, due to having lesser income than the General category across the rural/urban divide."
      ],
      "metadata": {
        "id": "nuFYkZ5tH0TB"
      }
    }
  ],
  "metadata": {
    "colab": {
      "collapsed_sections": [
        "EyA9lHQ2izYB",
        "ayGIQ6Ub-HL3",
        "73OaTVBW-NX6",
        "the8R0AI-aSE"
      ],
      "provenance": [],
      "authorship_tag": "ABX9TyM4tWupak7TWeye6IKLxGeQ",
      "include_colab_link": true
    },
    "kernelspec": {
      "display_name": "Python 3",
      "name": "python3"
    },
    "language_info": {
      "name": "python"
    }
  },
  "nbformat": 4,
  "nbformat_minor": 0
}